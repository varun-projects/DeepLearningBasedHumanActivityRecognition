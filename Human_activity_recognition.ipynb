{
  "cells": [
    {
      "cell_type": "markdown",
      "metadata": {
        "id": "01R9hPGoeHHE"
      },
      "source": [
        "\n",
        "\n",
        "## Details about the input data\n",
        "\n",
        "I will be using an LSTM on the data \n",
        "\n"
      ]
    },
    {
      "cell_type": "code",
      "execution_count": null,
      "metadata": {
        "id": "7jg5VnEAeHHG"
      },
      "outputs": [],
      "source": [
        "# All Includes\n",
        "\n",
        "import numpy as np\n",
        "import matplotlib\n",
        "import matplotlib.pyplot as plt\n",
        "import tensorflow as tf  # Version 1.0.0 (some previous versions are used in past commits)\n",
        "from sklearn import metrics\n",
        "\n",
        "import os"
      ]
    },
    {
      "cell_type": "code",
      "execution_count": null,
      "metadata": {
        "id": "Gk3FQ9t7eHHM"
      },
      "outputs": [],
      "source": [
        "#LABELS = [\"Bump \", \"Crack \", \"DirtRoad \", \"Idle \", \"PavedRoad \", \"Pothole \", \"PotholeMiss \", \"RoughRoad \", \"SpeedBump \"] \n",
        "# Output classes to learn how to classify\n",
        "LABELS = [\n",
        "    \"WALKING\",\"WALKING_UPSTAIRS\",\"WALKING_DOWNSTAIRS\",\"SITTING\",\"STANDING\",\"LAYING\"\n",
        "]"
      ]
    },
    {
      "cell_type": "markdown",
      "metadata": {
        "id": "W9cMaBsyeHHQ"
      },
      "source": [
        ""
      ]
    },
    {
      "cell_type": "code",
      "execution_count": null,
      "metadata": {
        "id": "45Xy8pqIeHHQ"
      },
      "outputs": [],
      "source": [
        "DATA_PATH = \"data/\"\n",
        "DATASET_PATH = DATA_PATH + \"UCI HAR Dataset/\"\n",
        "\n"
      ]
    },
    {
      "cell_type": "markdown",
      "metadata": {
        "id": "dWZwPpbIeHHU"
      },
      "source": [
        ""
      ]
    },
    {
      "cell_type": "markdown",
      "metadata": {
        "id": "cKypJOg_eHHZ"
      },
      "source": [
        "\n",
        "\n"
      ]
    },
    {
      "cell_type": "code",
      "execution_count": null,
      "metadata": {
        "colab": {
          "base_uri": "https://localhost:8080/",
          "height": 85
        },
        "id": "XcQdtt1_eHHa",
        "outputId": "945a2fb1-e17f-40a6-c426-2b76f497279e"
      },
      "outputs": [
        {
          "name": "stdout",
          "output_type": "stream",
          "text": [
            "Some useful info to get an insight on dataset's shape and normalisation:\n",
            "(X shape, y shape, every X's mean, every X's standard deviation)\n",
            "(2947, 561, 1) (2947, 6) -0.509257 0.525582\n",
            "The dataset is therefore properly normalised, as expected, but not yet one-hot encoded.\n"
          ]
        }
      ],
      "source": [
        "# Input Data \n",
        "\n",
        "training_data_count = len(X_train)  #  training series (with 50% overlap between each serie)\n",
        "test_data_count = len(X_test)  #  testing series\n",
        "n_steps = len(X_train[0])  #  timesteps per series\n",
        "n_input = len(X_train[0][0])  #  input parameters per timestep\n",
        "\n",
        "\n",
        "# LSTM Neural Network's internal structure\n",
        "n_hidden = 7 # Hidden layer num of features\n",
        "n_classes = 5 # Total classes \n",
        "# Training \n",
        "learning_rate = 0.001   # 0.003\n",
        "lambda_loss_amount = 0.01\n",
        "training_iters = training_data_count * 300  # Loop 300 times on the dataset\n",
        "batch_size = 264    # 20 for batch size   #smaller batch size more change of updating the network  i one epoach\n",
        "display_iter = 100  # To show test set accuracy during training\n",
        "\n",
        "\n"
      ]
    },
    {
      "cell_type": "markdown",
      "metadata": {
        "id": "tB6wllCtYXIK"
      },
      "source": [
        ""
      ]
    },
    {
      "cell_type": "code",
      "execution_count": null,
      "metadata": {
        "id": "JPQx9kxltUr7"
      },
      "outputs": [],
      "source": [
        "\n",
        "\n",
        "\n",
        "from numpy import mean\n",
        "from numpy import std\n",
        "from numpy import dstack\n",
        "from pandas import read_csv\n",
        "from keras.models import Sequential\n",
        "from keras.layers import Dense\n",
        "from keras.layers import Flatten\n",
        "from keras.layers import Dropout\n",
        "from keras.layers import LSTM\n",
        "from keras.utils import to_categorical\n",
        "from matplotlib import pyplot\n",
        "import matplotlib.pyplot as plt\n",
        "import pandas as pd\n",
        "\n",
        "directory_for_the_data=r\"C:/Users/Varun_Garg/Desktop/HW1_HA/HA_hw_4/data/\"\n",
        "\n",
        "def load_file(filepath):\n",
        "    dataframe = pd.read_csv(filepath, header=None, delim_whitespace=True)\n",
        "    return dataframe.values\n",
        "\n",
        "def load_group(filenames, prefix=''):\n",
        "    loaded = list()\n",
        "    for name in filenames:\n",
        "        data = load_file(prefix + name)\n",
        "        loaded.append(data)\n",
        "    # stack group so that features are the 3rd dimension\n",
        "    loaded = dstack(loaded)\n",
        "    return loaded\n",
        "\n",
        "def load_dataset_group(group, prefix=''):\n",
        "    filepath = prefix + group + '/Inertial Signals/'\n",
        "    # load all 9 files as a single array\n",
        "    filenames = list()\n",
        "    # total acceleration\n",
        "    filenames += ['total_acc_x_'+group+'.txt', 'total_acc_y_'+group+'.txt', 'total_acc_z_'+group+'.txt']\n",
        "    # body acceleration\n",
        "    filenames += ['body_acc_x_'+group+'.txt', 'body_acc_y_'+group+'.txt', 'body_acc_z_'+group+'.txt']\n",
        "    # body gyroscope\n",
        "    filenames += ['body_gyro_x_'+group+'.txt', 'body_gyro_y_'+group+'.txt', 'body_gyro_z_'+group+'.txt']\n",
        "    # load input data\n",
        "    X = load_group(filenames, filepath)\n",
        "    # load class output\n",
        "    y = load_file(prefix + group + '/y_'+group+'.txt')\n",
        "    return X, y\n",
        "\n",
        "def load_dataset_acc_group(group, prefix=''):\n",
        "    filepath = prefix + group + '/Inertial Signals/'\n",
        "    # load all 9 files as a single array\n",
        "    filenames = list()\n",
        "    # total acceleration\n",
        "    filenames += ['total_acc_x_'+group+'.txt', 'total_acc_y_'+group+'.txt', 'total_acc_z_'+group+'.txt']\n",
        "    # body acceleration\n",
        "    filenames += ['body_acc_x_'+group+'.txt', 'body_acc_y_'+group+'.txt', 'body_acc_z_'+group+'.txt']\n",
        "    # body gyroscope\n",
        "    #filenames += ['body_gyro_x_'+group+'.txt', 'body_gyro_y_'+group+'.txt', 'body_gyro_z_'+group+'.txt']\n",
        "    # load input data\n",
        "    X = load_group(filenames, filepath)\n",
        "    # load class output\n",
        "    y = load_file(prefix + group + '/y_'+group+'.txt')\n",
        "    return X, y\n",
        "\n",
        "\n",
        "def load_dataset_gyro_group(group, prefix=''):\n",
        "    filepath = prefix + group + '/Inertial Signals/'\n",
        "    # load all 9 files as a single array\n",
        "    filenames = list()\n",
        "\n",
        "    # body gyroscope\n",
        "    filenames += ['body_gyro_x_'+group+'.txt', 'body_gyro_y_'+group+'.txt', 'body_gyro_z_'+group+'.txt']\n",
        "    # load input data\n",
        "    X = load_group(filenames, filepath)\n",
        "    # load class output\n",
        "    y = load_file(prefix + group + '/y_'+group+'.txt')\n",
        "    return X, y\n",
        "\n",
        "\n",
        "def load_dataset(prefix=''):\n",
        "    # load all train\n",
        "    trainX, trainy = load_dataset_group('train', prefix + 'HAR Dataset/')\n",
        "    print(trainX.shape, trainy.shape)\n",
        "    # load all test\n",
        "    testX, testy = load_dataset_group('test', prefix + 'HAR Dataset/')\n",
        "    print(testX.shape, testy.shape)\n",
        "    # zero-offset class values\n",
        "    trainy = trainy - 1\n",
        "    testy = testy - 1\n",
        "    # one hot encode y\n",
        "    trainy = to_categorical(trainy)\n",
        "    testy = to_categorical(testy)\n",
        "    print(trainX.shape, trainy.shape, testX.shape, testy.shape)\n",
        "    return trainX, trainy, testX, testy\n",
        "\n",
        "\n",
        "def load_acc_dataset(prefix=''):\n",
        "    # load all train\n",
        "    trainX, trainy = load_dataset_acc_group('train', prefix + 'HAR Dataset/')\n",
        "    print(trainX.shape, trainy.shape)\n",
        "    # load all test\n",
        "    testX, testy = load_dataset_acc_group('test', prefix + 'HAR Dataset/')\n",
        "    print(testX.shape, testy.shape)\n",
        "    # zero-offset class values\n",
        "    trainy = trainy - 1\n",
        "    testy = testy - 1\n",
        "    # one hot encode y\n",
        "    trainy = to_categorical(trainy)\n",
        "    testy = to_categorical(testy)\n",
        "    print(trainX.shape, trainy.shape, testX.shape, testy.shape)\n",
        "    return trainX, trainy, testX, testy\n",
        "\n",
        "\n",
        "def load_gyro_dataset(prefix=''):\n",
        "    # load all train\n",
        "    trainX, trainy = load_dataset_gyro_group('train', prefix + 'HAR Dataset/')\n",
        "    print(trainX.shape, trainy.shape)\n",
        "    # load all test\n",
        "    testX, testy = load_dataset_gyro_group('test', prefix + 'HAR Dataset/')\n",
        "    print(testX.shape, testy.shape)\n",
        "    # zero-offset class values\n",
        "    trainy = trainy - 1\n",
        "    testy = testy - 1\n",
        "    # one hot encode y\n",
        "    trainy = to_categorical(trainy)\n",
        "    testy = to_categorical(testy)\n",
        "    print(trainX.shape, trainy.shape, testX.shape, testy.shape)\n",
        "    return trainX, trainy, testX, testy\n",
        "\n",
        "\n",
        "\n",
        "\n",
        "\n",
        "\n",
        "\n",
        "\n",
        "\n",
        "def plot_train_and_val(mymodel):\n",
        "  plt.plot(mymodel.history['acc'])\n",
        "  #plt.plot(mymodel.history['val_acc'])\n",
        "  plt.title('model accuracy')\n",
        "  plt.ylabel('accuracy')\n",
        "  plt.xlabel('epoch')\n",
        "  plt.legend(['train', 'Validation'], loc='upper left')\n",
        "  plt.show()\n",
        "  plt.plot(mymodel.history['loss'])\n",
        "  plt.plot(mymodel.history['val_loss'])\n",
        "  plt.title('model loss')\n",
        "  plt.ylabel('loss')\n",
        "  plt.xlabel('epoch')\n",
        "  plt.legend(['train', 'Validation'], loc='upper left')\n",
        "  plt.show()\n",
        "\n",
        "    \n",
        "    \n",
        "  \n"
      ]
    },
    {
      "cell_type": "code",
      "execution_count": null,
      "metadata": {
        "id": "CJ_slk6KtUr-",
        "outputId": "4c769bda-c901-41ba-8969-6597e5c5eabb"
      },
      "outputs": [
        {
          "name": "stdout",
          "output_type": "stream",
          "text": [
            "(7352, 128, 9) (7352, 1)\n",
            "(2947, 128, 9) (2947, 1)\n",
            "(7352, 128, 9) (7352, 4) (2947, 128, 9) (2947, 4)\n"
          ]
        }
      ],
      "source": [
        "# Task 1 output 1\n",
        "#oOutput 1: 4 class problems with activities: Walking, Sitting, Standing and Laying. Merge all kind of walking activities into a composite activity “walking”. The problem is categorical\n",
        "\n",
        "\n",
        "def load_dataset_4class(prefix=''):\n",
        "    # load all train\n",
        "    trainX, trainy = load_dataset_group('train', prefix + 'HAR Dataset/')\n",
        "    print(trainX.shape, trainy.shape)\n",
        "    # load all test\n",
        "    testX, testy = load_dataset_group('test', prefix + 'HAR Dataset/')\n",
        "    print(testX.shape, testy.shape)\n",
        "    # zero-offset class values\n",
        "    trainy = trainy - 1\n",
        "    testy = testy - 1\n",
        "    # one hot encode y\n",
        "\n",
        "    trainy_4_output = trainy\n",
        "    for i in range (len(trainy_4_output)):\n",
        "        if trainy_4_output[i]==4:\n",
        "            trainy_4_output[i]=3\n",
        "        elif trainy_4_output[i]==5:\n",
        "            trainy_4_output[i]=3\n",
        "    trainy=trainy_4_output\n",
        "    \n",
        "    testy_4_output = testy\n",
        "    for i in range (len(testy_4_output)):\n",
        "        if testy_4_output[i]==4:\n",
        "            testy_4_output[i]=3\n",
        "        elif testy_4_output[i]==5:\n",
        "            testy_4_output[i]=3\n",
        "    testy=testy_4_output\n",
        "    \n",
        "    trainy = to_categorical(trainy)\n",
        "    testy = to_categorical(testy)\n",
        "    \n",
        "    print(trainX.shape, trainy.shape, testX.shape, testy.shape)\n",
        "    return trainX, trainy, testX, testy\n",
        "\n",
        "\n",
        "trainX, trainy, testX, testy = load_dataset_4class(prefix=directory_for_the_data)\n",
        "\n",
        "\n",
        "\n"
      ]
    },
    {
      "cell_type": "code",
      "execution_count": null,
      "metadata": {
        "id": "LHnuuOm4tUsG",
        "outputId": "16ec3438-f6c5-4c5c-f32d-d75045e4a2eb"
      },
      "outputs": [
        {
          "data": {
            "text/plain": [
              "(2947, 4)"
            ]
          },
          "execution_count": 277,
          "metadata": {},
          "output_type": "execute_result"
        }
      ],
      "source": [
        "testy.shape"
      ]
    },
    {
      "cell_type": "code",
      "execution_count": null,
      "metadata": {
        "id": "YqnDeHx2tUsH",
        "outputId": "0efd0a60-65cc-4fbd-b3d9-032170f6d5e3"
      },
      "outputs": [
        {
          "name": "stdout",
          "output_type": "stream",
          "text": [
            "(7352, 128, 6) (7352, 1)\n",
            "(2947, 128, 6) (2947, 1)\n",
            "(7352, 128, 6) (7352, 4) (2947, 128, 6) (2947, 4)\n"
          ]
        }
      ],
      "source": [
        "# Task 1 output 1\n",
        "def load_acc_dataset_4class(prefix=''):\n",
        "    # load all train\n",
        "    trainX, trainy = load_dataset_acc_group('train', prefix + 'HAR Dataset/')\n",
        "    print(trainX.shape, trainy.shape)\n",
        "    # load all test\n",
        "    testX, testy = load_dataset_acc_group('test', prefix + 'HAR Dataset/')\n",
        "    print(testX.shape, testy.shape)\n",
        "    # zero-offset class values\n",
        "    trainy = trainy - 1\n",
        "    testy = testy - 1\n",
        "    # one hot encode y\n",
        "\n",
        "    trainy_4_output = trainy\n",
        "    for i in range (len(trainy_4_output)):\n",
        "        if trainy_4_output[i]==4:\n",
        "            trainy_4_output[i]=3\n",
        "        elif trainy_4_output[i]==5:\n",
        "            trainy_4_output[i]=3\n",
        "    trainy=trainy_4_output\n",
        "    \n",
        "    testy_4_output = testy\n",
        "    for i in range (len(testy_4_output)):\n",
        "        if testy_4_output[i]==4:\n",
        "            testy_4_output[i]=3\n",
        "        elif testy_4_output[i]==5:\n",
        "            testy_4_output[i]=3\n",
        "    testy=testy_4_output\n",
        "    \n",
        "    trainy = to_categorical(trainy)\n",
        "    testy = to_categorical(testy)\n",
        "    \n",
        "    print(trainX.shape, trainy.shape, testX.shape, testy.shape)\n",
        "    return trainX, trainy, testX, testy\n",
        "\n",
        "\n",
        "trainX, trainy, testX, testy = load_acc_dataset_4class(prefix=directory_for_the_data)\n",
        "\n",
        "\n",
        "\n",
        "\n",
        "\n"
      ]
    },
    {
      "cell_type": "code",
      "execution_count": null,
      "metadata": {
        "id": "fwHtIYNYtUsH",
        "outputId": "63e22c09-beb4-4ef5-e2a0-a357a5da6918"
      },
      "outputs": [
        {
          "data": {
            "text/plain": [
              "(2947, 4)"
            ]
          },
          "execution_count": 273,
          "metadata": {},
          "output_type": "execute_result"
        }
      ],
      "source": [
        "testy.shape"
      ]
    },
    {
      "cell_type": "code",
      "execution_count": null,
      "metadata": {
        "id": "berli1QmtUsI",
        "outputId": "0b57ea8e-55eb-471f-eb1c-8d8a200f0bdb"
      },
      "outputs": [
        {
          "name": "stdout",
          "output_type": "stream",
          "text": [
            "(7352, 128, 3) (7352, 1)\n",
            "(2947, 128, 3) (2947, 1)\n",
            "(7352, 128, 3) (7352, 4) (2947, 128, 3) (2947, 4)\n"
          ]
        }
      ],
      "source": [
        "# Task 1 output 1\n",
        "def load_gyro_dataset_4class(prefix=''):\n",
        "    # load all train\n",
        "    trainX, trainy = load_dataset_gyro_group('train', prefix + 'HAR Dataset/')\n",
        "    print(trainX.shape, trainy.shape)\n",
        "    # load all test\n",
        "    testX, testy = load_dataset_gyro_group('test', prefix + 'HAR Dataset/')\n",
        "    print(testX.shape, testy.shape)\n",
        "    # zero-offset class values\n",
        "    trainy = trainy - 1\n",
        "    testy = testy - 1\n",
        "    # one hot encode y\n",
        "\n",
        "    trainy_4_output = trainy\n",
        "    for i in range (len(trainy_4_output)):\n",
        "        if trainy_4_output[i]==4:\n",
        "            trainy_4_output[i]=3\n",
        "        elif trainy_4_output[i]==5:\n",
        "            trainy_4_output[i]=3\n",
        "    trainy=trainy_4_output\n",
        "    \n",
        "    testy_4_output = testy\n",
        "    for i in range (len(testy_4_output)):\n",
        "        if testy_4_output[i]==4:\n",
        "            testy_4_output[i]=3\n",
        "        elif testy_4_output[i]==5:\n",
        "            testy_4_output[i]=3\n",
        "    testy=testy_4_output\n",
        "    \n",
        "    trainy = to_categorical(trainy)\n",
        "    testy = to_categorical(testy)\n",
        "    \n",
        "    print(trainX.shape, trainy.shape, testX.shape, testy.shape)\n",
        "    return trainX, trainy, testX, testy\n",
        "\n",
        "\n",
        "trainX, trainy, testX, testy = load_gyro_dataset_4class(prefix=directory_for_the_data)\n",
        "\n",
        "\n",
        "\n",
        "\n",
        "\n"
      ]
    },
    {
      "cell_type": "code",
      "execution_count": null,
      "metadata": {
        "id": "8BxPtO1AtUsI",
        "outputId": "6d5e385c-1308-443c-9d23-9e19819cd3de"
      },
      "outputs": [
        {
          "data": {
            "text/plain": [
              "(2947, 4)"
            ]
          },
          "execution_count": 275,
          "metadata": {},
          "output_type": "execute_result"
        }
      ],
      "source": [
        "testy.shape"
      ]
    },
    {
      "cell_type": "code",
      "execution_count": null,
      "metadata": {
        "id": "6Bgsn4e3tUsJ"
      },
      "outputs": [],
      "source": [
        ""
      ]
    },
    {
      "cell_type": "code",
      "execution_count": null,
      "metadata": {
        "id": "bV4CTjcQtUsK"
      },
      "outputs": [],
      "source": [
        "#Task 1 output 2 \n",
        "# oOutput 2: Replace categorical classes with the following values to make it a regression problem of mobility score"
      ]
    },
    {
      "cell_type": "code",
      "execution_count": null,
      "metadata": {
        "id": "8gnTm3S-tUsK"
      },
      "outputs": [],
      "source": [
        "def load_dataset_mobility_score(prefix=''):\n",
        "    trainX, trainy = load_dataset_group('train', prefix + 'HAR Dataset/')\n",
        "    testX, testy = load_dataset_group('test', prefix + 'HAR Dataset/')\n",
        "    trainy = trainy - 1\n",
        "    testy = testy - 1\n",
        "    return trainX, trainy, testX, testy\n",
        "\n"
      ]
    },
    {
      "cell_type": "code",
      "execution_count": null,
      "metadata": {
        "id": "IZY2T9hmtUsK",
        "outputId": "cc0edad4-caa3-4942-d634-1543b986e2ec"
      },
      "outputs": [
        {
          "name": "stdout",
          "output_type": "stream",
          "text": [
            "(7352, 128, 9) (7352, 1)\n",
            "(2947, 128, 9) (2947, 1)\n",
            "(7352, 128, 9) (7352, 1) (2947, 128, 9) (2947, 1)\n"
          ]
        }
      ],
      "source": [
        "trainX, trainy_non_categorical, testX, testy_non_categorical = load_dataset_mobility_score(prefix=directory_for_the_data)\n"
      ]
    },
    {
      "cell_type": "code",
      "execution_count": null,
      "metadata": {
        "id": "0nx5EEUvtUsL",
        "outputId": "d545df54-1502-43f2-d300-83eb4217640a"
      },
      "outputs": [
        {
          "data": {
            "text/plain": [
              "7352"
            ]
          },
          "execution_count": 181,
          "metadata": {},
          "output_type": "execute_result"
        }
      ],
      "source": [
        "len(trainy_non_categorical)"
      ]
    },
    {
      "cell_type": "code",
      "execution_count": null,
      "metadata": {
        "id": "UaM3sDoMtUsL"
      },
      "outputs": [],
      "source": [
        "trainy_model2 =trainy_non_categorical\n",
        "#trainy[1:100]\n",
        "\n",
        "\n",
        "for i in range (len(trainy_model2)):\n",
        "    if trainy_model2[i]==2:\n",
        "        trainy_model2[i]=1\n",
        "    elif trainy_model2[i]==3:\n",
        "        trainy_model2[i]=2\n",
        "    elif trainy_model2[i]==4:\n",
        "        trainy_model2[i]=3\n"
      ]
    },
    {
      "cell_type": "code",
      "execution_count": null,
      "metadata": {
        "id": "VLhu2nuptUsM"
      },
      "outputs": [],
      "source": [
        "testy_model2 =testy_non_categorical\n",
        "#testy[1:100]\n",
        "\n",
        "\n",
        "for i in range (len(testy_model2)):\n",
        "    if testy_model2[i]==2:\n",
        "        testy_model2[i]=1\n",
        "    elif testy_model2[i]==3:\n",
        "        testy_model2[i]=2\n",
        "    elif testy_model2[i]==4:\n",
        "        testy_model2[i]=3"
      ]
    },
    {
      "cell_type": "code",
      "execution_count": null,
      "metadata": {
        "id": "UIBEZm-LtUsN"
      },
      "outputs": [],
      "source": [
        "def plot_train_and_val(history):\n",
        "  plt.plot(history.history['acc'])\n",
        "  plt.plot(history.history['val_acc'])\n",
        "  plt.title('model accuracy')\n",
        "  plt.ylabel('accuracy')\n",
        "  plt.xlabel('epoch')\n",
        "  plt.legend(['train', 'Validation'], loc='upper left')\n",
        "  plt.show()\n",
        "  plt.plot(history.history['loss'])\n",
        "  plt.plot(history.history['val_loss'])\n",
        "  plt.title('model loss')\n",
        "  plt.ylabel('loss')\n",
        "  plt.xlabel('epoch')\n",
        "  plt.legend(['train', 'Validation'], loc='upper left')\n",
        "  plt.show()\n",
        "\n",
        "\n"
      ]
    },
    {
      "cell_type": "code",
      "execution_count": null,
      "metadata": {
        "id": "BWseXjiNtUsN",
        "outputId": "162e50b7-e2ea-4126-d527-03769e8991d0"
      },
      "outputs": [
        {
          "name": "stdout",
          "output_type": "stream",
          "text": [
            "(7352, 128, 9) (7352, 1)\n",
            "(2947, 128, 9) (2947, 1)\n",
            "(7352, 128, 9) (7352, 4) (2947, 128, 9) (2947, 4)\n"
          ]
        },
        {
          "data": {
            "text/plain": [
              "(7352, 128, 9)"
            ]
          },
          "execution_count": 279,
          "metadata": {},
          "output_type": "execute_result"
        }
      ],
      "source": [
        "trainX, trainy, testX, testy = load_dataset_4class(prefix=directory_for_the_data)\n",
        "trainX.shape"
      ]
    },
    {
      "cell_type": "code",
      "execution_count": null,
      "metadata": {
        "scrolled": false,
        "id": "BZa5KGbztUsP",
        "outputId": "5554e6a1-9034-4e5d-f37c-4bfe5ff99d54"
      },
      "outputs": [
        {
          "name": "stdout",
          "output_type": "stream",
          "text": [
            "__________________________________________________________________________________________________\n",
            "Layer (type)                    Output Shape         Param #     Connected to                     \n",
            "==================================================================================================\n",
            "input_28 (InputLayer)           (None, 128, 9)       0                                            \n",
            "__________________________________________________________________________________________________\n",
            "input_29 (InputLayer)           (None, 128, 9)       0                                            \n",
            "__________________________________________________________________________________________________\n",
            "lstm_165 (LSTM)                 (None, 100)          44000       input_28[0][0]                   \n",
            "__________________________________________________________________________________________________\n",
            "lstm_166 (LSTM)                 (None, 100)          44000       input_29[0][0]                   \n",
            "__________________________________________________________________________________________________\n",
            "concatenate_12 (Concatenate)    (None, 200)          0           lstm_165[0][0]                   \n",
            "                                                                 lstm_166[0][0]                   \n",
            "__________________________________________________________________________________________________\n",
            "repeat_vector_39 (RepeatVector) (None, 3, 200)       0           concatenate_12[0][0]             \n",
            "__________________________________________________________________________________________________\n",
            "lstm_167 (LSTM)                 (None, 3, 100)       120400      repeat_vector_39[0][0]           \n",
            "__________________________________________________________________________________________________\n",
            "lstm_168 (LSTM)                 (None, 3, 100)       80400       lstm_167[0][0]                   \n",
            "__________________________________________________________________________________________________\n",
            "lstm_169 (LSTM)                 (None, 100)          80400       lstm_168[0][0]                   \n",
            "__________________________________________________________________________________________________\n",
            "lstm_170 (LSTM)                 (None, 100)          80400       lstm_168[0][0]                   \n",
            "__________________________________________________________________________________________________\n",
            "out1 (Dense)                    (None, 4)            404         lstm_169[0][0]                   \n",
            "__________________________________________________________________________________________________\n",
            "out2 (Dense)                    (None, 1)            101         lstm_170[0][0]                   \n",
            "==================================================================================================\n",
            "Total params: 450,105\n",
            "Trainable params: 450,105\n",
            "Non-trainable params: 0\n",
            "__________________________________________________________________________________________________\n",
            "None\n"
          ]
        }
      ],
      "source": [
        "# MULTI input OUTPUT MODEL\n",
        "\n",
        "\n",
        "import keras\n",
        "from keras.layers import Input, Dense , Concatenate\n",
        "from keras.models import Model\n",
        "# This returns a tensor\n",
        "inputs  = Input(shape=(128, 9))\n",
        "inputs2 = Input(shape=(128, 9))\n",
        "# a layer instance is callable on a tensor, and returns a tensor\n",
        "lstm_1 = LSTM(100,  activation='relu')(inputs)\n",
        "lstm_2 = LSTM(100,  activation='relu')(inputs2)\n",
        "Merge2 =  keras.layers.concatenate([lstm_1, lstm_2])\n",
        "Rvec =    keras.layers.RepeatVector(3)(Merge2)\n",
        "lstm_m_1 = LSTM(100, activation='relu', return_sequences=True)(Rvec)\n",
        "lstm_m_2 = LSTM(100,  activation='relu', return_sequences=True)(lstm_m_1)\n",
        "lstm_o_1= LSTM(100, activation='relu')(lstm_m_2)\n",
        "lstm_o_2= LSTM(100, activation='relu')(lstm_m_2)\n",
        "\n",
        "output1= Dense(4, activation=\"softmax\", name = 'out1')(lstm_o_1)\n",
        "output2= Dense(1, activation=\"softmax\", name = 'out2')(lstm_o_2)\n",
        "\n",
        "model = Model(inputs=[inputs, inputs2] , outputs=[output1, output2])\n",
        "print(model.summary())\n"
      ]
    },
    {
      "cell_type": "code",
      "execution_count": null,
      "metadata": {
        "id": "P3GGvBSstUsQ"
      },
      "outputs": [],
      "source": [
        "m=256\n",
        "n_epoch =25\n",
        "model.compile(optimizer ='adam', loss =['categorical_crossentropy','mse'], loss_weights = [1.0,0.5], metrics= ['accuracy'])"
      ]
    },
    {
      "cell_type": "code",
      "execution_count": null,
      "metadata": {
        "id": "_QpmiABOtUsQ",
        "outputId": "03d3b3d2-dd42-4ebd-9e56-9757195717d0"
      },
      "outputs": [
        {
          "name": "stdout",
          "output_type": "stream",
          "text": [
            "Train on 4925 samples, validate on 2427 samples\n",
            "Epoch 1/16\n",
            "4925/4925 [==============================] - 70s 14ms/step - loss: 2.9947 - out1_loss: 1.3100 - out2_loss: 3.3693 - out1_acc: 0.5377 - out2_acc: 0.4510 - val_loss: 8.0724 - val_out1_loss: 6.3175 - val_out2_loss: 3.5097 - val_out1_acc: 0.5517 - val_out2_acc: 0.4631\n",
            "Epoch 2/16\n",
            "4925/4925 [==============================] - 19s 4ms/step - loss: 4.2372 - out1_loss: 2.5525 - out2_loss: 3.3693 - out1_acc: 0.4745 - out2_acc: 0.4510 - val_loss: 8.4927 - val_out1_loss: 6.7379 - val_out2_loss: 3.5097 - val_out1_acc: 0.2279 - val_out2_acc: 0.4631\n",
            "Epoch 3/16\n",
            "4925/4925 [==============================] - 18s 4ms/step - loss: 6.3194 - out1_loss: 4.6347 - out2_loss: 3.3693 - out1_acc: 0.4173 - out2_acc: 0.4510 - val_loss: 2.5343 - val_out1_loss: 0.7794 - val_out2_loss: 3.5097 - val_out1_acc: 0.6432 - val_out2_acc: 0.4631\n",
            "Epoch 4/16\n",
            "4925/4925 [==============================] - 16s 3ms/step - loss: 2.2840 - out1_loss: 0.5993 - out2_loss: 3.3693 - out1_acc: 0.7019 - out2_acc: 0.4510 - val_loss: 2.3630 - val_out1_loss: 0.6081 - val_out2_loss: 3.5097 - val_out1_acc: 0.7318 - val_out2_acc: 0.4631\n",
            "Epoch 5/16\n",
            "4925/4925 [==============================] - 16s 3ms/step - loss: 2.1926 - out1_loss: 0.5079 - out2_loss: 3.3693 - out1_acc: 0.7338 - out2_acc: 0.4510 - val_loss: 2.3811 - val_out1_loss: 0.6262 - val_out2_loss: 3.5097 - val_out1_acc: 0.7153 - val_out2_acc: 0.4631\n",
            "Epoch 6/16\n",
            "4925/4925 [==============================] - 19s 4ms/step - loss: 2.1655 - out1_loss: 0.4809 - out2_loss: 3.3693 - out1_acc: 0.7468 - out2_acc: 0.4510 - val_loss: 2.5478 - val_out1_loss: 0.7929 - val_out2_loss: 3.5097 - val_out1_acc: 0.7169 - val_out2_acc: 0.4631\n",
            "Epoch 7/16\n",
            "4925/4925 [==============================] - 17s 4ms/step - loss: 2.1587 - out1_loss: 0.4741 - out2_loss: 3.3693 - out1_acc: 0.7517 - out2_acc: 0.4510 - val_loss: 2.4270 - val_out1_loss: 0.6722 - val_out2_loss: 3.5097 - val_out1_acc: 0.7417 - val_out2_acc: 0.4631\n",
            "Epoch 8/16\n",
            "4925/4925 [==============================] - 18s 4ms/step - loss: 2.1434 - out1_loss: 0.4587 - out2_loss: 3.3693 - out1_acc: 0.7620 - out2_acc: 0.4510 - val_loss: 2.4388 - val_out1_loss: 0.6840 - val_out2_loss: 3.5097 - val_out1_acc: 0.7532 - val_out2_acc: 0.4631\n",
            "Epoch 9/16\n",
            "4925/4925 [==============================] - 16s 3ms/step - loss: 2.1164 - out1_loss: 0.4317 - out2_loss: 3.3693 - out1_acc: 0.7817 - out2_acc: 0.4510 - val_loss: 2.4861 - val_out1_loss: 0.7313 - val_out2_loss: 3.5097 - val_out1_acc: 0.7499 - val_out2_acc: 0.4631\n",
            "Epoch 10/16\n",
            "4925/4925 [==============================] - 16s 3ms/step - loss: 2.0888 - out1_loss: 0.4042 - out2_loss: 3.3693 - out1_acc: 0.8154 - out2_acc: 0.4510 - val_loss: 2.5074 - val_out1_loss: 0.7525 - val_out2_loss: 3.5097 - val_out1_acc: 0.7367 - val_out2_acc: 0.4631\n",
            "Epoch 11/16\n",
            "4925/4925 [==============================] - 16s 3ms/step - loss: 2.0411 - out1_loss: 0.3564 - out2_loss: 3.3693 - out1_acc: 0.8475 - out2_acc: 0.4510 - val_loss: 2.2237 - val_out1_loss: 0.4689 - val_out2_loss: 3.5097 - val_out1_acc: 0.8525 - val_out2_acc: 0.4631\n",
            "Epoch 12/16\n",
            "4925/4925 [==============================] - 16s 3ms/step - loss: 1.9947 - out1_loss: 0.3100 - out2_loss: 3.3693 - out1_acc: 0.8879 - out2_acc: 0.4510 - val_loss: 2.1545 - val_out1_loss: 0.3997 - val_out2_loss: 3.5097 - val_out1_acc: 0.8719 - val_out2_acc: 0.4631\n",
            "Epoch 13/16\n",
            "4925/4925 [==============================] - 18s 4ms/step - loss: 1.8887 - out1_loss: 0.2041 - out2_loss: 3.3693 - out1_acc: 0.9206 - out2_acc: 0.4510 - val_loss: 2.3215 - val_out1_loss: 0.5666 - val_out2_loss: 3.5097 - val_out1_acc: 0.8681 - val_out2_acc: 0.4631\n",
            "Epoch 14/16\n",
            "4925/4925 [==============================] - 17s 4ms/step - loss: 1.8434 - out1_loss: 0.1587 - out2_loss: 3.3693 - out1_acc: 0.9431 - out2_acc: 0.4510 - val_loss: 2.9972 - val_out1_loss: 1.2424 - val_out2_loss: 3.5097 - val_out1_acc: 0.7857 - val_out2_acc: 0.4631\n",
            "Epoch 15/16\n",
            "4925/4925 [==============================] - 15s 3ms/step - loss: 1.9342 - out1_loss: 0.2495 - out2_loss: 3.3693 - out1_acc: 0.9084 - out2_acc: 0.4510 - val_loss: 2.8486 - val_out1_loss: 1.0937 - val_out2_loss: 3.5097 - val_out1_acc: 0.7754 - val_out2_acc: 0.4631\n",
            "Epoch 16/16\n",
            "4925/4925 [==============================] - 14s 3ms/step - loss: 1.9699 - out1_loss: 0.2852 - out2_loss: 3.3693 - out1_acc: 0.8914 - out2_acc: 0.4510 - val_loss: 2.3884 - val_out1_loss: 0.6336 - val_out2_loss: 3.5097 - val_out1_acc: 0.8508 - val_out2_acc: 0.4631\n"
          ]
        }
      ],
      "source": [
        "#history = model.fit([X_train, X_train], [y_train,y_train], epochs=1, batch_size=2000)\n",
        "#history = model.fit([trainX, trainX], [trainy,trainy], epochs=16, batch_size=200, validation_data=([testX,testX ],[testy,testy]))\n",
        "\n",
        "#history = model.fit([trainX, trainX], [trainy,trainy], epochs=16, batch_size=200, validation_split=0.33)\n",
        "history = model.fit([trainX, trainX], [trainy,trainy_model2], epochs=16, batch_size=200, validation_split=0.33)"
      ]
    },
    {
      "cell_type": "code",
      "execution_count": null,
      "metadata": {
        "id": "h-2YzfcWtUsQ",
        "outputId": "e63507d4-35dd-4689-b5e5-79569eb48dff"
      },
      "outputs": [
        {
          "name": "stdout",
          "output_type": "stream",
          "text": [
            "dict_keys(['val_loss', 'val_out1_loss', 'val_out2_loss', 'val_out1_acc', 'val_out2_acc', 'loss', 'out1_loss', 'out2_loss', 'out1_acc', 'out2_acc'])\n"
          ]
        }
      ],
      "source": [
        "print(history.history.keys())"
      ]
    },
    {
      "cell_type": "code",
      "execution_count": null,
      "metadata": {
        "id": "eJSX3BNptUsR"
      },
      "outputs": [],
      "source": [
        ""
      ]
    },
    {
      "cell_type": "code",
      "execution_count": null,
      "metadata": {
        "id": "DHYVCH61tUsR"
      },
      "outputs": [],
      "source": [
        "def plot_train_and_val_model1(history):\n",
        "  plt.plot(history.history['out1_acc'])\n",
        "  plt.plot(history.history['val_out1_acc'])\n",
        "  plt.title('model 1 accuracy')\n",
        "  plt.ylabel('accuracy')\n",
        "  plt.xlabel('epoch')\n",
        "  plt.legend(['train', 'Validation'], loc='upper left')\n",
        "  plt.show()\n",
        "  plt.plot(history.history['out1_loss'])\n",
        "  plt.plot(history.history['val_out1_loss'])\n",
        "  plt.title('model 1 loss')\n",
        "  plt.ylabel('loss')\n",
        "  plt.xlabel('epoch')\n",
        "  plt.legend(['train', 'Validation'], loc='upper left')\n",
        "  plt.show()"
      ]
    },
    {
      "cell_type": "code",
      "execution_count": null,
      "metadata": {
        "id": "UMbHOXNttUsR",
        "outputId": "436dc938-b085-4883-993b-02c8cc727480"
      },
      "outputs": [
        {
          "data": {
            "image/png": "[encoded data removed]",
            "text/plain": [
              "<Figure size 432x288 with 1 Axes>"
            ]
          },
          "metadata": {
            "needs_background": "light"
          },
          "output_type": "display_data"
        },
        {
          "data": {
            "image/png": "[encoded data removed]",
            "text/plain": [
              "<Figure size 432x288 with 1 Axes>"
            ]
          },
          "metadata": {
            "needs_background": "light"
          },
          "output_type": "display_data"
        }
      ],
      "source": [
        "plot_train_and_val_model1(history)\n"
      ]
    },
    {
      "cell_type": "code",
      "execution_count": null,
      "metadata": {
        "id": "pGNGGMMOtUsS"
      },
      "outputs": [],
      "source": [
        "def plot_train_and_val_model2(history):\n",
        "  plt.plot(history.history['out2_acc'])\n",
        "  plt.plot(history.history['val_out2_acc'])\n",
        "  plt.title('model 2 accuracy')\n",
        "  plt.ylabel('accuracy')\n",
        "  plt.xlabel('epoch')\n",
        "  plt.legend(['train', 'Validation'], loc='upper left')\n",
        "  plt.show()\n",
        "  plt.plot(history.history['out2_loss'])\n",
        "  plt.plot(history.history['val_out2_loss'])\n",
        "  plt.title('model 2 loss')\n",
        "  plt.ylabel('loss')\n",
        "  plt.xlabel('epoch')\n",
        "  plt.legend(['train', 'Validation'], loc='upper left')\n",
        "  plt.show()"
      ]
    },
    {
      "cell_type": "code",
      "execution_count": null,
      "metadata": {
        "id": "a_jkbhRntUsT",
        "outputId": "b8456ae6-e999-4560-e8f3-6ef5287d6de9"
      },
      "outputs": [
        {
          "data": {
            "image/png": "[encoded data removed]",
            "text/plain": [
              "<Figure size 432x288 with 1 Axes>"
            ]
          },
          "metadata": {
            "needs_background": "light"
          },
          "output_type": "display_data"
        },
        {
          "data": {
            "image/png": "[encoded data removed]",
            "text/plain": [
              "<Figure size 432x288 with 1 Axes>"
            ]
          },
          "metadata": {
            "needs_background": "light"
          },
          "output_type": "display_data"
        }
      ],
      "source": [
        "plot_train_and_val_model2(history)\n"
      ]
    },
    {
      "cell_type": "code",
      "execution_count": null,
      "metadata": {
        "id": "ZLgkPxbvtUsT"
      },
      "outputs": [],
      "source": [
        ""
      ]
    },
    {
      "cell_type": "code",
      "execution_count": null,
      "metadata": {
        "id": "SQvLbrbrtUsT",
        "outputId": "962df8ec-f5f7-4efb-d451-66e1ecfa5b15"
      },
      "outputs": [
        {
          "data": {
            "text/plain": [
              "[<matplotlib.lines.Line2D at 0x1af703ea348>]"
            ]
          },
          "execution_count": 288,
          "metadata": {},
          "output_type": "execute_result"
        },
        {
          "data": {
            "image/png": "[encoded data removed]",
            "text/plain": [
              "<Figure size 432x288 with 1 Axes>"
            ]
          },
          "metadata": {
            "needs_background": "light"
          },
          "output_type": "display_data"
        }
      ],
      "source": [
        "plt.plot(history.history['loss'])\n"
      ]
    },
    {
      "cell_type": "code",
      "execution_count": null,
      "metadata": {
        "id": "twRCkrjOtUsU",
        "outputId": "2fec132c-4e88-45a0-d83b-29ef6e63ae85"
      },
      "outputs": [
        {
          "data": {
            "text/plain": [
              "[<matplotlib.lines.Line2D at 0x1afa524c308>]"
            ]
          },
          "execution_count": 289,
          "metadata": {},
          "output_type": "execute_result"
        },
        {
          "data": {
            "image/png": "[encoded data removed]",
            "text/plain": [
              "<Figure size 432x288 with 1 Axes>"
            ]
          },
          "metadata": {
            "needs_background": "light"
          },
          "output_type": "display_data"
        }
      ],
      "source": [
        "plt.plot(history.history['val_loss'])\n"
      ]
    },
    {
      "cell_type": "code",
      "execution_count": null,
      "metadata": {
        "id": "205wQxrItUsU"
      },
      "outputs": [],
      "source": [
        ""
      ]
    },
    {
      "cell_type": "code",
      "execution_count": null,
      "metadata": {
        "id": "F1OQ7yj8tUsU",
        "outputId": "769548a4-6c34-4829-a875-c3943fb55a0c"
      },
      "outputs": [
        {
          "data": {
            "text/plain": [
              "[<matplotlib.lines.Line2D at 0x1afa52ba188>]"
            ]
          },
          "execution_count": 290,
          "metadata": {},
          "output_type": "execute_result"
        },
        {
          "data": {
            "image/png": "[encoded data removed]",
            "text/plain": [
              "<Figure size 432x288 with 1 Axes>"
            ]
          },
          "metadata": {
            "needs_background": "light"
          },
          "output_type": "display_data"
        }
      ],
      "source": [
        "#  loss 1\n",
        "plt.plot(history.history['out1_loss'])"
      ]
    },
    {
      "cell_type": "code",
      "execution_count": null,
      "metadata": {
        "id": "8kJo9dVytUsV",
        "outputId": "c20642bf-baac-4875-d700-3ecc261975b9"
      },
      "outputs": [
        {
          "data": {
            "text/plain": [
              "[<matplotlib.lines.Line2D at 0x1afa5460608>]"
            ]
          },
          "execution_count": 291,
          "metadata": {},
          "output_type": "execute_result"
        },
        {
          "data": {
            "image/png": "[encoded data removed]",
            "text/plain": [
              "<Figure size 432x288 with 1 Axes>"
            ]
          },
          "metadata": {
            "needs_background": "light"
          },
          "output_type": "display_data"
        }
      ],
      "source": [
        "#  loss 2\n",
        "\n",
        "plt.plot(history.history['out2_loss'])\n",
        "\n"
      ]
    },
    {
      "cell_type": "code",
      "execution_count": null,
      "metadata": {
        "id": "k6ntXLF1tUsV",
        "outputId": "d6e1e0e4-db34-4b07-e647-6c7d9cd6e4ec"
      },
      "outputs": [
        {
          "data": {
            "text/plain": [
              "[<matplotlib.lines.Line2D at 0x1afbb09c888>]"
            ]
          },
          "execution_count": 292,
          "metadata": {},
          "output_type": "execute_result"
        },
        {
          "data": {
            "image/png": "[encoded data removed]",
            "text/plain": [
              "<Figure size 432x288 with 1 Axes>"
            ]
          },
          "metadata": {
            "needs_background": "light"
          },
          "output_type": "display_data"
        }
      ],
      "source": [
        "# Accuracy curve model 1\n",
        "plt.plot(history.history['out1_acc'])\n"
      ]
    },
    {
      "cell_type": "code",
      "execution_count": null,
      "metadata": {
        "id": "BOWdW3SutUsW",
        "outputId": "036b986c-f75e-4c57-fbd8-783414698f12"
      },
      "outputs": [
        {
          "data": {
            "text/plain": [
              "[<matplotlib.lines.Line2D at 0x1afbb106ac8>]"
            ]
          },
          "execution_count": 293,
          "metadata": {},
          "output_type": "execute_result"
        },
        {
          "data": {
            "image/png": "[encoded data removed]",
            "text/plain": [
              "<Figure size 432x288 with 1 Axes>"
            ]
          },
          "metadata": {
            "needs_background": "light"
          },
          "output_type": "display_data"
        }
      ],
      "source": [
        "# Accuracy curve model 2\n",
        "plt.plot(history.history['out2_acc'])\n"
      ]
    },
    {
      "cell_type": "code",
      "execution_count": null,
      "metadata": {
        "id": "lttWuCSktUsW",
        "outputId": "654b3d38-573d-45ae-cfbf-8ff8af4bb7a2"
      },
      "outputs": [
        {
          "data": {
            "text/plain": [
              "(2947, 128, 9)"
            ]
          },
          "execution_count": 294,
          "metadata": {},
          "output_type": "execute_result"
        }
      ],
      "source": [
        "testX.shape\n"
      ]
    },
    {
      "cell_type": "code",
      "execution_count": null,
      "metadata": {
        "id": "kx3YxsIgtUsW",
        "outputId": "fa32cfe4-f248-4e31-f2a0-4a1b06f41dd2"
      },
      "outputs": [
        {
          "data": {
            "text/plain": [
              "(7352, 1)"
            ]
          },
          "execution_count": 295,
          "metadata": {},
          "output_type": "execute_result"
        }
      ],
      "source": [
        "trainy_model2.shape"
      ]
    },
    {
      "cell_type": "code",
      "execution_count": null,
      "metadata": {
        "id": "9CYOOKiStUsX"
      },
      "outputs": [],
      "source": [
        "#TASK 3 CODE"
      ]
    },
    {
      "cell_type": "code",
      "execution_count": null,
      "metadata": {
        "id": "wkZe6_NStUsX"
      },
      "outputs": [],
      "source": [
        "from sklearn.metrics import classification_report, confusion_matrix\n",
        "Y_pred = model.predict([testX,testX])\n",
        "\n",
        "\n"
      ]
    },
    {
      "cell_type": "code",
      "execution_count": null,
      "metadata": {
        "id": "tgs1n60ttUsX"
      },
      "outputs": [],
      "source": [
        ""
      ]
    },
    {
      "cell_type": "code",
      "execution_count": null,
      "metadata": {
        "id": "NCl3J-ogtUsX",
        "outputId": "a1d7cdd8-144e-4a2b-88dd-af665c275153"
      },
      "outputs": [
        {
          "data": {
            "text/plain": [
              "(2947, 4)"
            ]
          },
          "execution_count": 298,
          "metadata": {},
          "output_type": "execute_result"
        }
      ],
      "source": [
        "np.shape(Y_pred[0])"
      ]
    },
    {
      "cell_type": "code",
      "execution_count": null,
      "metadata": {
        "id": "zs2rcvcrtUsY",
        "outputId": "21cd740a-e3f7-431d-a2bd-7276deef09fb"
      },
      "outputs": [
        {
          "data": {
            "text/plain": [
              "array([1.7211009e-07, 2.9566111e-18, 1.5721695e-13, 9.9999988e-01],\n",
              "      dtype=float32)"
            ]
          },
          "execution_count": 299,
          "metadata": {},
          "output_type": "execute_result"
        }
      ],
      "source": [
        "one_hot_output =Y_pred[0]\n",
        "one_hot_output[1]"
      ]
    },
    {
      "cell_type": "code",
      "execution_count": null,
      "metadata": {
        "id": "R3pGntThtUsY"
      },
      "outputs": [],
      "source": [
        "one_hot_o = np.argmax(one_hot_output,  axis=1)"
      ]
    },
    {
      "cell_type": "code",
      "execution_count": null,
      "metadata": {
        "id": "6l8w_6qFtUsY",
        "outputId": "2acfa296-8fcf-428b-970c-d3ca1850a802"
      },
      "outputs": [
        {
          "data": {
            "text/plain": [
              "(2947,)"
            ]
          },
          "execution_count": 301,
          "metadata": {},
          "output_type": "execute_result"
        }
      ],
      "source": [
        "one_hot_o.shape"
      ]
    },
    {
      "cell_type": "code",
      "execution_count": null,
      "metadata": {
        "id": "ujX-z0iJtUsY",
        "outputId": "a9e5a369-9ffd-4999-befe-3006a96d0eba"
      },
      "outputs": [
        {
          "data": {
            "text/plain": [
              "(2947, 1)"
            ]
          },
          "execution_count": 302,
          "metadata": {},
          "output_type": "execute_result"
        }
      ],
      "source": [
        "#cm = confusion_matrix(np.argmax(y_test,axis=1),y_pred)\n",
        "testy_non_categorical.shape"
      ]
    },
    {
      "cell_type": "code",
      "execution_count": null,
      "metadata": {
        "id": "Ona4sYpTtUsZ"
      },
      "outputs": [],
      "source": [
        "cm = confusion_matrix(testy_non_categorical,one_hot_o)"
      ]
    },
    {
      "cell_type": "code",
      "execution_count": null,
      "metadata": {
        "id": "ijCqzIyYtUsZ",
        "outputId": "d6789840-43d4-48d7-e123-106af441e8ef"
      },
      "outputs": [
        {
          "name": "stdout",
          "output_type": "stream",
          "text": [
            "[[437   3  27  29   0   0]\n",
            " [ 24 342 105   0   0   0]\n",
            " [153  33 234   0   0   0]\n",
            " [ 18   0   0 473   0   0]\n",
            " [  9   0   0 523   0   0]\n",
            " [  7  20  12 498   0   0]]\n"
          ]
        }
      ],
      "source": [
        "print(cm)"
      ]
    },
    {
      "cell_type": "code",
      "execution_count": null,
      "metadata": {
        "id": "37HPPuIAtUsZ"
      },
      "outputs": [],
      "source": [
        "#get MSE and you are done"
      ]
    },
    {
      "cell_type": "code",
      "execution_count": null,
      "metadata": {
        "id": "MCgRW-MvtUsa",
        "outputId": "dd2c18ab-b3a0-4d0d-9e74-fdb92b9382fb"
      },
      "outputs": [
        {
          "name": "stdout",
          "output_type": "stream",
          "text": [
            "(2947, 1)\n",
            "(2947, 1)\n",
            "mean_squared_error\n"
          ]
        },
        {
          "data": {
            "text/plain": [
              "3.2643366135052596"
            ]
          },
          "execution_count": 307,
          "metadata": {},
          "output_type": "execute_result"
        }
      ],
      "source": [
        "\n",
        "from sklearn.metrics import mean_squared_error \n",
        "model_out_mobility_score = Y_pred[1]\n",
        "model_out_mobility_score[1:200]\n",
        "print(model_out_mobility_score.shape)\n",
        "print(testy_model2.shape)\n",
        "#mean_squared_error(Y_true,Y_pred) \n",
        "print('mean_squared_error')\n",
        "mean_squared_error(testy_model2,model_out_mobility_score) \n",
        "# use this ----testy_model2\n",
        "\n"
      ]
    },
    {
      "cell_type": "code",
      "execution_count": null,
      "metadata": {
        "id": "VVjqIHWQtUsa"
      },
      "outputs": [],
      "source": [
        "# there is more code below for task 4 an"
      ]
    },
    {
      "cell_type": "code",
      "execution_count": null,
      "metadata": {
        "id": "0dHvZURctUsb"
      },
      "outputs": [],
      "source": [
        ""
      ]
    },
    {
      "cell_type": "code",
      "execution_count": null,
      "metadata": {
        "id": "XnxN1UK5tUsb"
      },
      "outputs": [],
      "source": [
        ""
      ]
    },
    {
      "cell_type": "code",
      "execution_count": null,
      "metadata": {
        "id": "FRQ188IttUsb"
      },
      "outputs": [],
      "source": [
        ""
      ]
    },
    {
      "cell_type": "code",
      "execution_count": null,
      "metadata": {
        "id": "gxrNZ63_tUsb"
      },
      "outputs": [],
      "source": [
        ""
      ]
    },
    {
      "cell_type": "code",
      "execution_count": null,
      "metadata": {
        "id": "9eWMOaVKtUsb"
      },
      "outputs": [],
      "source": [
        ""
      ]
    },
    {
      "cell_type": "code",
      "execution_count": null,
      "metadata": {
        "id": "mbZW9rVvtUsb"
      },
      "outputs": [],
      "source": [
        ""
      ]
    },
    {
      "cell_type": "code",
      "execution_count": null,
      "metadata": {
        "id": "VPUyscbntUsb"
      },
      "outputs": [],
      "source": [
        ""
      ]
    },
    {
      "cell_type": "code",
      "execution_count": null,
      "metadata": {
        "id": "ZJLMAumEtUsb"
      },
      "outputs": [],
      "source": [
        ""
      ]
    },
    {
      "cell_type": "code",
      "execution_count": null,
      "metadata": {
        "id": "KckwkLz4tUsc"
      },
      "outputs": [],
      "source": [
        ""
      ]
    },
    {
      "cell_type": "code",
      "execution_count": null,
      "metadata": {
        "id": "CFVLuqkbtUsc"
      },
      "outputs": [],
      "source": [
        ""
      ]
    },
    {
      "cell_type": "code",
      "execution_count": null,
      "metadata": {
        "id": "VCaxcoaltUsc"
      },
      "outputs": [],
      "source": [
        ""
      ]
    },
    {
      "cell_type": "code",
      "execution_count": null,
      "metadata": {
        "id": "DuVytpfXtUsc"
      },
      "outputs": [],
      "source": [
        ""
      ]
    },
    {
      "cell_type": "code",
      "execution_count": null,
      "metadata": {
        "id": "01SMiN4ztUsc"
      },
      "outputs": [],
      "source": [
        ""
      ]
    },
    {
      "cell_type": "code",
      "execution_count": null,
      "metadata": {
        "id": "Lz4aTKTztUsc"
      },
      "outputs": [],
      "source": [
        ""
      ]
    },
    {
      "cell_type": "code",
      "execution_count": null,
      "metadata": {
        "id": "NfMq_KeatUsc"
      },
      "outputs": [],
      "source": [
        ""
      ]
    },
    {
      "cell_type": "code",
      "execution_count": null,
      "metadata": {
        "id": "h8aDG6rptUsd"
      },
      "outputs": [],
      "source": [
        ""
      ]
    },
    {
      "cell_type": "code",
      "execution_count": null,
      "metadata": {
        "id": "PpxdfQgBtUsd"
      },
      "outputs": [],
      "source": [
        ""
      ]
    }
  ],
  "metadata": {
    "colab": {
      "collapsed_sections": [],
      "name": "Human_activity_recognition.ipynb",
      "provenance": []
    },
    "kernelspec": {
      "display_name": "Python 3",
      "language": "python",
      "name": "python3"
    },
    "language_info": {
      "codemirror_mode": {
        "name": "ipython",
        "version": 3
      },
      "file_extension": ".py",
      "mimetype": "text/x-python",
      "name": "python",
      "nbconvert_exporter": "python",
      "pygments_lexer": "ipython3",
      "version": "3.7.6"
    }
  },
  "nbformat": 4,
  "nbformat_minor": 0
}